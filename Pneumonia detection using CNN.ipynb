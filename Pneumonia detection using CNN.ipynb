{
 "cells": [
  {
   "cell_type": "code",
   "execution_count": 1,
   "metadata": {},
   "outputs": [],
   "source": [
    "from glob import glob\n",
    "import os\n",
    "import numpy as np\n",
    "import pandas as pd\n",
    "import random\n",
    "\n"
   ]
  },
  {
   "cell_type": "code",
   "execution_count": 2,
   "metadata": {},
   "outputs": [],
   "source": [
    "import matplotlib.pyplot as plt\n",
    "%matplotlib inline\n",
    "num_classes=2"
   ]
  },
  {
   "cell_type": "code",
   "execution_count": 3,
   "metadata": {},
   "outputs": [],
   "source": [
    "\n",
    "from tensorflow.python.keras.models import Sequential\n",
    "from tensorflow.python.keras.layers import Dense, Flatten, MaxPooling2D ,Convolution2D,Dropout\n",
    "from tensorflow.python.keras.preprocessing.image import ImageDataGenerator, img_to_array, load_img"
   ]
  },
  {
   "cell_type": "code",
   "execution_count": 4,
   "metadata": {},
   "outputs": [
    {
     "name": "stderr",
     "output_type": "stream",
     "text": [
      "WARNING: Logging before flag parsing goes to stderr.\n",
      "W0728 15:12:59.385635 198296 deprecation.py:506] From C:\\Users\\sirish\\Anaconda3\\lib\\site-packages\\tensorflow\\python\\ops\\init_ops.py:1251: calling VarianceScaling.__init__ (from tensorflow.python.ops.init_ops) with dtype is deprecated and will be removed in a future version.\n",
      "Instructions for updating:\n",
      "Call initializer instance with the dtype argument instead of passing it to the constructor\n",
      "Using TensorFlow backend.\n"
     ]
    }
   ],
   "source": [
    "# Initialising the CNN\n",
    "model = Sequential()\n",
    "\n",
    "# Convolution Layers\n",
    "model.add(Convolution2D(32, (3, 3), input_shape = (64, 64, 3), activation = 'relu',data_format='channels_last'))\n",
    "model.add(MaxPooling2D(pool_size = (2,2)))\n",
    "\n",
    "model.add(Convolution2D(64, (3, 3), input_shape = (64, 64, 3), activation = 'relu',data_format='channels_last'))\n",
    "model.add(MaxPooling2D(pool_size = (2,2)))\n",
    "\n",
    "model.add(Convolution2D(128, (3, 3), activation='relu', input_shape=(64,64,3), data_format='channels_last'))\n",
    "model.add(MaxPooling2D(pool_size = (2,2)))\n",
    "# Flattening\n",
    "model.add(Flatten())\n",
    "\n",
    "#Full Connection\n",
    "model.add(Dense(256, activation='relu'))\n",
    "model.add(Dropout(0.3))\n",
    "model.add(Dense(num_classes, activation = 'softmax'))\n",
    "\n",
    "# Compiling the CNN\n",
    "from keras import optimizers\n",
    "adam = optimizers.adam(lr=0.0001)\n",
    "model.compile( optimizer='adam', loss = 'categorical_crossentropy', metrics = ['accuracy'])\n"
   ]
  },
  {
   "cell_type": "code",
   "execution_count": 5,
   "metadata": {},
   "outputs": [
    {
     "name": "stdout",
     "output_type": "stream",
     "text": [
      "Datasets: ['.DS_Store', 'test', 'train', 'val']\n",
      "Train:\t ['.DS_Store', 'NORMAL', 'PNEUMONIA']\n",
      "Test:\t ['NORMAL', 'PNEUMONIA']\n"
     ]
    }
   ],
   "source": [
    "# Path to data\n",
    "data_dir  = r'C:\\Users\\sirish\\Downloads\\chest_xray'\n",
    "train_dir = r'C:\\Users\\sirish\\Downloads\\chest_xray\\train'\n",
    "test_dir  = r'C:\\Users\\sirish\\Downloads\\chest_xray\\test'\n",
    "val_dir   = r'C:\\Users\\sirish\\Downloads\\chest_xray\\val'\n",
    "\n",
    "# Get the path to the normal and pneumonia sub-directories\n",
    "normal_cases_dir = r'C:\\Users\\sirish\\Downloads\\chest_xray\\train\\NORMAL'\n",
    "pneumonia_cases_dir = r'C:\\Users\\sirish\\Downloads\\chest_xray\\train\\PNEUMONIA'\n",
    "\n",
    "print(\"Datasets:\",os.listdir(data_dir))\n",
    "print(\"Train:\\t\", os.listdir(train_dir))\n",
    "print(\"Test:\\t\", os.listdir(test_dir))"
   ]
  },
  {
   "cell_type": "code",
   "execution_count": 6,
   "metadata": {},
   "outputs": [],
   "source": [
    "# Get the list of all the images\n",
    "normal_cases = glob(normal_cases_dir+'/*.jpeg')\n",
    "pneumonia_cases = glob(pneumonia_cases_dir+'/*.jpeg')\n"
   ]
  },
  {
   "cell_type": "code",
   "execution_count": 7,
   "metadata": {},
   "outputs": [],
   "source": [
    "# An empty list. We will insert the data into this list in (img_path, label) format\n",
    "train_data = []"
   ]
  },
  {
   "cell_type": "code",
   "execution_count": 8,
   "metadata": {},
   "outputs": [],
   "source": [
    "# Go through all the normal cases. The label for these cases will be 0\n",
    "for img in normal_cases:\n",
    "    train_data.append((img,0))\n",
    "\n",
    "# Go through all the pneumonia cases. The label for these cases will be 1\n",
    "for img in pneumonia_cases:\n",
    "    train_data.append((img, 1))\n"
   ]
  },
  {
   "cell_type": "code",
   "execution_count": 9,
   "metadata": {},
   "outputs": [],
   "source": [
    "# Get a pandas dataframe from the data we have in our list \n",
    "train_data = pd.DataFrame(train_data, columns=['image', 'label'],index=None)\n",
    "\n",
    "# Shuffle the data \n",
    "train_data = train_data.sample(frac=1.).reset_index(drop=True)\n"
   ]
  },
  {
   "cell_type": "code",
   "execution_count": 10,
   "metadata": {},
   "outputs": [],
   "source": [
    "image_size = 64\n",
    "nb_train_samples = 5216 # number of files in training set\n",
    "batch_size = 32"
   ]
  },
  {
   "cell_type": "code",
   "execution_count": 11,
   "metadata": {},
   "outputs": [],
   "source": [
    "EPOCHS = 20\n",
    "STEPS = nb_train_samples / batch_size\n",
    "\n",
    "from keras.preprocessing.image import ImageDataGenerator\n",
    "\n",
    "train_datagen = ImageDataGenerator(rescale=1./255,shear_range=0.2,zoom_range=0.2,horizontal_flip=True)\n",
    "\n",
    "test_datagen = ImageDataGenerator(rescale=1./255)"
   ]
  },
  {
   "cell_type": "code",
   "execution_count": 12,
   "metadata": {},
   "outputs": [
    {
     "name": "stdout",
     "output_type": "stream",
     "text": [
      "Found 5216 images belonging to 2 classes.\n"
     ]
    }
   ],
   "source": [
    "train_generator = train_datagen.flow_from_directory(\n",
    "       directory = train_dir,\n",
    "       target_size = (image_size, image_size),\n",
    "       batch_size = batch_size,\n",
    "       class_mode = 'categorical')\n"
   ]
  },
  {
   "cell_type": "code",
   "execution_count": 13,
   "metadata": {},
   "outputs": [
    {
     "name": "stdout",
     "output_type": "stream",
     "text": [
      "Found 624 images belonging to 2 classes.\n"
     ]
    }
   ],
   "source": [
    "\n",
    "test_generator = test_datagen.flow_from_directory(\n",
    "       directory = test_dir,\n",
    "       target_size = (image_size, image_size),\n",
    "       batch_size = 1,\n",
    "       shuffle=False,\n",
    "       class_mode = 'categorical')"
   ]
  },
  {
   "cell_type": "code",
   "execution_count": 14,
   "metadata": {},
   "outputs": [
    {
     "name": "stdout",
     "output_type": "stream",
     "text": [
      "Epoch 1/20\n",
      "163/163 [==============================] - 140s 860ms/step - loss: 0.4181 - acc: 0.8098 - val_loss: 0.3558 - val_acc: 0.8478\n",
      "Epoch 2/20\n",
      "163/163 [==============================] - 130s 795ms/step - loss: 0.2340 - acc: 0.9015 - val_loss: 0.3145 - val_acc: 0.8862\n",
      "Epoch 3/20\n",
      "163/163 [==============================] - 159s 973ms/step - loss: 0.1991 - acc: 0.9235 - val_loss: 0.2671 - val_acc: 0.9022\n",
      "Epoch 4/20\n",
      "163/163 [==============================] - 144s 886ms/step - loss: 0.1661 - acc: 0.9383 - val_loss: 0.4557 - val_acc: 0.8542\n",
      "Epoch 5/20\n",
      "163/163 [==============================] - 142s 871ms/step - loss: 0.1561 - acc: 0.9392 - val_loss: 0.4908 - val_acc: 0.8381\n",
      "Epoch 6/20\n",
      "163/163 [==============================] - 151s 929ms/step - loss: 0.1546 - acc: 0.9402 - val_loss: 0.5540 - val_acc: 0.7804\n",
      "Epoch 7/20\n",
      "163/163 [==============================] - 141s 866ms/step - loss: 0.1341 - acc: 0.9480 - val_loss: 0.3691 - val_acc: 0.8926\n",
      "Epoch 8/20\n",
      "163/163 [==============================] - 145s 888ms/step - loss: 0.1480 - acc: 0.9469 - val_loss: 0.3872 - val_acc: 0.8590\n",
      "Epoch 9/20\n",
      "163/163 [==============================] - 137s 838ms/step - loss: 0.1389 - acc: 0.9502 - val_loss: 0.2805 - val_acc: 0.9103\n",
      "Epoch 10/20\n",
      "163/163 [==============================] - 131s 806ms/step - loss: 0.1347 - acc: 0.9492 - val_loss: 0.3134 - val_acc: 0.9038\n",
      "Epoch 11/20\n",
      "163/163 [==============================] - 129s 789ms/step - loss: 0.1267 - acc: 0.9536 - val_loss: 0.3545 - val_acc: 0.8878\n",
      "Epoch 12/20\n",
      "163/163 [==============================] - 130s 800ms/step - loss: 0.1207 - acc: 0.9542 - val_loss: 0.4003 - val_acc: 0.8510\n",
      "Epoch 13/20\n",
      "163/163 [==============================] - 127s 780ms/step - loss: 0.1179 - acc: 0.9559 - val_loss: 0.2927 - val_acc: 0.9135\n",
      "Epoch 14/20\n",
      "163/163 [==============================] - 134s 821ms/step - loss: 0.1176 - acc: 0.9582 - val_loss: 0.4272 - val_acc: 0.8670\n",
      "Epoch 15/20\n",
      "163/163 [==============================] - 134s 823ms/step - loss: 0.1219 - acc: 0.9557 - val_loss: 0.2523 - val_acc: 0.9135\n",
      "Epoch 16/20\n",
      "163/163 [==============================] - 131s 804ms/step - loss: 0.1124 - acc: 0.9599 - val_loss: 0.2781 - val_acc: 0.9183\n",
      "Epoch 17/20\n",
      "163/163 [==============================] - 137s 842ms/step - loss: 0.1197 - acc: 0.9555 - val_loss: 0.4035 - val_acc: 0.8574\n",
      "Epoch 18/20\n",
      "163/163 [==============================] - 132s 812ms/step - loss: 0.1048 - acc: 0.9609 - val_loss: 0.2940 - val_acc: 0.9135\n",
      "Epoch 19/20\n",
      "163/163 [==============================] - 132s 812ms/step - loss: 0.1019 - acc: 0.9613 - val_loss: 0.2849 - val_acc: 0.9006\n",
      "Epoch 20/20\n",
      "163/163 [==============================] - 134s 822ms/step - loss: 0.0998 - acc: 0.9630 - val_loss: 0.2523 - val_acc: 0.9231\n"
     ]
    },
    {
     "data": {
      "text/plain": [
       "<tensorflow.python.keras.callbacks.History at 0x1788f8cdc18>"
      ]
     },
     "execution_count": 14,
     "metadata": {},
     "output_type": "execute_result"
    }
   ],
   "source": [
    "model.fit_generator(\n",
    "       train_generator, # specify where model gets training data\n",
    "       epochs = EPOCHS,\n",
    "       steps_per_epoch=STEPS,\n",
    "       validation_data=test_generator) # specify where model gets validation data"
   ]
  },
  {
   "cell_type": "code",
   "execution_count": 19,
   "metadata": {},
   "outputs": [
    {
     "data": {
      "image/png": "[encoded data removed]",
      "text/plain": [
       "<Figure size 432x288 with 1 Axes>"
      ]
     },
     "metadata": {
      "needs_background": "light"
     },
     "output_type": "display_data"
    },
    {
     "data": {
      "image/png": "[encoded data removed]",
      "text/plain": [
       "<Figure size 432x288 with 1 Axes>"
      ]
     },
     "metadata": {
      "needs_background": "light"
     },
     "output_type": "display_data"
    }
   ],
   "source": [
    "# Accuracy \n",
    "plt.plot(model.history.history['acc'])\n",
    "plt.plot(model.history.history['val_acc'])\n",
    "plt.title('Model Accuracy')\n",
    "plt.ylabel('Accuracy')\n",
    "plt.xlabel('Epoch')\n",
    "plt.legend(['Training set', 'Test set'], loc='upper left')\n",
    "plt.show()\n",
    "\n",
    "# Loss \n",
    "plt.plot(model.history.history['loss'])\n",
    "plt.plot(model.history.history['val_loss'])\n",
    "plt.title('Model Loss')\n",
    "plt.ylabel('Loss')\n",
    "plt.xlabel('Epoch')\n",
    "plt.legend(['Training set', 'Test set'], loc='upper left')\n",
    "plt.show()"
   ]
  },
  {
   "cell_type": "code",
   "execution_count": 20,
   "metadata": {},
   "outputs": [
    {
     "name": "stdout",
     "output_type": "stream",
     "text": [
      "Confusion Matrix\n",
      "[[192  42]\n",
      " [  6 384]]\n",
      "Classification Report\n",
      "              precision    recall  f1-score   support\n",
      "\n",
      "           0       0.97      0.82      0.89       234\n",
      "           1       0.90      0.98      0.94       390\n",
      "\n",
      "   micro avg       0.92      0.92      0.92       624\n",
      "   macro avg       0.94      0.90      0.92       624\n",
      "weighted avg       0.93      0.92      0.92       624\n",
      "\n"
     ]
    }
   ],
   "source": [
    "\n",
    "#Confution Matrix and Classification Report\n",
    "import numpy as np\n",
    "from sklearn.metrics import classification_report, confusion_matrix\n",
    "Y_pred = model.predict_generator(test_generator,624)\n",
    "y_pred = np.argmax(Y_pred,axis=1)\n",
    "print('Confusion Matrix')\n",
    "print(confusion_matrix(test_generator.classes, y_pred))\n",
    "print('Classification Report')\n",
    "print(classification_report(test_generator.classes, y_pred))"
   ]
  },
  {
   "cell_type": "code",
   "execution_count": 17,
   "metadata": {},
   "outputs": [
    {
     "name": "stdout",
     "output_type": "stream",
     "text": [
      "\n",
      "acc: 92.31%\n"
     ]
    }
   ],
   "source": [
    "scores = model.evaluate_generator(test_generator)\n",
    "print(\"\\n%s: %.2f%%\" % (model.metrics_names[1], scores[1]*100))"
   ]
  },
  {
   "cell_type": "code",
   "execution_count": 21,
   "metadata": {},
   "outputs": [
    {
     "data": {
      "image/png": "[encoded data removed]",
      "text/plain": [
       "<Figure size 360x360 with 1 Axes>"
      ]
     },
     "metadata": {
      "needs_background": "light"
     },
     "output_type": "display_data"
    }
   ],
   "source": [
    "from mlxtend.plotting import plot_confusion_matrix\n",
    "fig, ax = plot_confusion_matrix(conf_mat=confusion_matrix(test_generator.classes, y_pred) ,  figsize=(5, 5))\n",
    "plt.show()"
   ]
  }
 ],
 "metadata": {
  "kernelspec": {
   "display_name": "Python 3",
   "language": "python",
   "name": "python3"
  },
  "language_info": {
   "codemirror_mode": {
    "name": "ipython",
    "version": 3
   },
   "file_extension": ".py",
   "mimetype": "text/x-python",
   "name": "python",
   "nbconvert_exporter": "python",
   "pygments_lexer": "ipython3",
   "version": "3.7.1"
  }
 },
 "nbformat": 4,
 "nbformat_minor": 2
}
